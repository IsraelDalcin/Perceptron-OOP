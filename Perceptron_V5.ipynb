{
  "cells": [
    {
      "cell_type": "code",
      "execution_count": 131,
      "id": "89407d01-ea37-45aa-a753-7421d9f78dc5",
      "metadata": {
        "tags": [],
        "id": "89407d01-ea37-45aa-a753-7421d9f78dc5"
      },
      "outputs": [],
      "source": [
        "# Librarys\n",
        "\n",
        "import numpy as np\n",
        "import random\n",
        "\n",
        "SEED = 20"
      ]
    },
    {
      "cell_type": "code",
      "execution_count": 132,
      "id": "e4155275-0d29-4b2a-bda0-fa28b687fc2e",
      "metadata": {
        "tags": [],
        "id": "e4155275-0d29-4b2a-bda0-fa28b687fc2e"
      },
      "outputs": [],
      "source": [
        "# Creating our Zeros Data Matrix, using numpy\n",
        "X = np.zeros((500,3), dtype=int)\n",
        "y = np.zeros((500,1), dtype=int)\n",
        "#X"
      ]
    },
    {
      "cell_type": "code",
      "execution_count": 133,
      "id": "6a0bc98c-8665-4cc6-9312-23efad27c157",
      "metadata": {
        "tags": [],
        "id": "6a0bc98c-8665-4cc6-9312-23efad27c157"
      },
      "outputs": [],
      "source": [
        "#y"
      ]
    },
    {
      "cell_type": "code",
      "execution_count": 134,
      "id": "0db7081f-023c-4521-be58-5ba7a71bf63d",
      "metadata": {
        "tags": [],
        "id": "0db7081f-023c-4521-be58-5ba7a71bf63d"
      },
      "outputs": [],
      "source": [
        "# Generating our DataBase using Random numbers, Randomizing numbers between 0 and 1, where 1 represents 'yes' and 0 represents 'no'\n",
        "# First, generating our Features (X)\n",
        "random.seed(SEED)\n",
        "for index_row, row in enumerate(X):\n",
        "    for index_col, col in enumerate(row):\n",
        "        X[index_row][index_col] = random.randint(0,1)\n",
        "#X"
      ]
    },
    {
      "cell_type": "code",
      "execution_count": 135,
      "id": "a6db562e-63b9-479a-bd70-03c3e6676759",
      "metadata": {
        "tags": [],
        "id": "a6db562e-63b9-479a-bd70-03c3e6676759"
      },
      "outputs": [],
      "source": [
        "# Generating our label (Y)\n",
        "for index_col, col in enumerate(y):\n",
        "    y[index_col] = random.randint(0,1)\n",
        "#y"
      ]
    },
    {
      "cell_type": "code",
      "execution_count": 136,
      "id": "feddfe6c-321d-4405-9179-1a971a115aae",
      "metadata": {
        "tags": [],
        "id": "feddfe6c-321d-4405-9179-1a971a115aae"
      },
      "outputs": [],
      "source": [
        "# Creating a class for the Neuron. This neuron will have a list with weights and BIAS\n",
        "class Neuron:\n",
        "    def __init__(self):\n",
        "        self.features = None\n",
        "        self.neurons = None\n",
        "\n",
        "    # We need to use the features as parameters to know how many weights we will have and the number of neurons to determine the quantity of BIAS\n",
        "    # As we are using a Perceptron, evidently, we will have only one neuron, so the BIAS will have only one value assigned to that neuron\n",
        "    # It was necessary to create the object without parameters and then add them later in a loop structure, so we needed to create a function to assign the attributes as parameters\n",
        "    def values_assignment(self, features, neurons):\n",
        "        self._weights = np.zeros(len(features))\n",
        "        self._bias = np.zeros(neurons)\n",
        "\n",
        "    # Add the value for the respective Weight\n",
        "    def add_weights(self, index_cols, delta_wj):\n",
        "        self._weights[index_cols] = self._weights[index_cols] + delta_wj\n",
        "\n",
        "    def add_bias(self, delta_bias):\n",
        "        self._bias[0] = self._bias[0] + delta_bias\n",
        "\n",
        "    # Checking the activation of the Neuron with a Step Function\n",
        "    def activation_check(self, features, output):\n",
        "        # If the results of the function return more than 0, so the prediction is 1, else return 0. Then, we need verify if the prediction is equal to the output\n",
        "        if (np.dot(features, self._weights) + self._bias) > 0:\n",
        "            self.checking_prediction = 1\n",
        "            if self.checking_prediction == output:\n",
        "                return True\n",
        "            else:\n",
        "                return False\n",
        "        else:\n",
        "            self.checking_prediction = 0\n",
        "            if self.checking_prediction == output:\n",
        "                return True\n",
        "            else:\n",
        "                return False\n",
        "\n",
        "    def __str__(self):\n",
        "        return f'Weights: {self._weights} | BIAS: {self._bias}'"
      ]
    },
    {
      "cell_type": "code",
      "execution_count": 137,
      "id": "c43e655b-c829-48b9-afdc-40c3ef102b78",
      "metadata": {
        "tags": [],
        "colab": {
          "base_uri": "https://localhost:8080/"
        },
        "id": "c43e655b-c829-48b9-afdc-40c3ef102b78",
        "outputId": "f45970a0-fc70-4301-a7d3-e395cf44542d"
      },
      "outputs": [
        {
          "output_type": "stream",
          "name": "stdout",
          "text": [
            "Total: 2500\n",
            "Prediction: 1320\n",
            "Accuracy of the train model: 52.800000000000004%\n"
          ]
        },
        {
          "output_type": "stream",
          "name": "stderr",
          "text": [
            "<ipython-input-136-36ac3c9dfcb3>:16: DeprecationWarning: Conversion of an array with ndim > 0 to a scalar is deprecated, and will error in future. Ensure you extract a single element from your array before performing this operation. (Deprecated NumPy 1.25.)\n",
            "  self._weights[index_cols] = self._weights[index_cols] + delta_wj\n",
            "<ipython-input-136-36ac3c9dfcb3>:19: DeprecationWarning: Conversion of an array with ndim > 0 to a scalar is deprecated, and will error in future. Ensure you extract a single element from your array before performing this operation. (Deprecated NumPy 1.25.)\n",
            "  self._bias[0] = self._bias[0] + delta_bias\n"
          ]
        }
      ],
      "source": [
        "# Instantiating the object neuron\n",
        "neuron = Neuron()\n",
        "# The learning rate constant\n",
        "η = 0.1\n",
        "# Used these variables to calculate the accuracy of the model\n",
        "trys = 0\n",
        "corrects = 0\n",
        "\n",
        "for i in range(5):\n",
        "  # Creating a Loop to walk through the vector X\n",
        "  for index_row, row in enumerate(X):\n",
        "      trys += 1\n",
        "      # Checking if is the 1st time of the loop, if yes, we create the weights based on ours features\n",
        "      if index_row == 0:\n",
        "          neuron.values_assignment(row, 1)\n",
        "\n",
        "      # Calling the method 'activation_check' to instance the attribute \"checking_prediction\"\n",
        "      neuron.activation_check(row, y[index_row])\n",
        "\n",
        "      # Here is where our perceptron works\n",
        "      # 1st we are checking if the neuron DON'T activade, if Don't, it means we need fit the Weights\n",
        "      if neuron.activation_check(row, y[index_row]) == False:\n",
        "          # Loop to walk through the columns, so we can calculate the weights for each feature specifically\n",
        "          for index_col, col in enumerate(row):\n",
        "                  # Using the basic function of perceptrons to calculate the weights\n",
        "                  delta_wj = η * (y[index_row] - neuron.checking_prediction) * col\n",
        "                  # This part call the method \"add_weights\" to add the weight on the respective index of the weight vector\n",
        "                  neuron.add_weights(index_col, delta_wj)\n",
        "          '''I needed to work with the BIAS separately from the weights, to be able to calculate it independently. However, the function remains the same, with the only change being in X[0]\n",
        "          as the bias will always be 1'''\n",
        "          delta_bias = η * (y[index_row] - neuron.checking_prediction) * 1\n",
        "          # Same with weights, just adding the bias to the BIAS vector\n",
        "          neuron.add_bias(delta_bias)\n",
        "      else:\n",
        "          corrects += 1\n",
        "\n",
        "# Accuracy mathematics\n",
        "print(f'Total: {trys}')\n",
        "print(f'Prediction: {corrects}')\n",
        "\n",
        "accuracy = corrects / trys\n",
        "print(f'Accuracy of the train model: {accuracy*100}%')"
      ]
    },
    {
      "cell_type": "code",
      "execution_count": 138,
      "id": "c605570b-88ff-4d0e-a4d2-0a74efd297db",
      "metadata": {
        "id": "c605570b-88ff-4d0e-a4d2-0a74efd297db"
      },
      "outputs": [],
      "source": [
        "# Creating our test dataset to validate the model\n",
        "X_test = np.zeros((200,3), dtype=int)\n",
        "y_test = np.zeros((200,1), dtype=int)\n",
        "SEED = 10\n",
        "random.seed(SEED)\n",
        "for index_row, row in enumerate(X_test):\n",
        "    for index_col, col in enumerate(row):\n",
        "        X_test[index_row][index_col] = random.randint(0,1)\n",
        "\n",
        "for index_col, col in enumerate(y_test):\n",
        "  y_test[index_col] = random.randint(0,1)"
      ]
    },
    {
      "cell_type": "code",
      "source": [
        "trys_test = 0\n",
        "corrects_test = 0\n",
        "dummy_predictions = 0\n",
        "\n",
        "# Same logic used in the cell above, but here I am predicting Y based on a new test dataset that we also randomly selected values for.\n",
        "for index_row, row in enumerate(X_test):\n",
        "    trys_test += 1\n",
        "\n",
        "    neuron.activation_check(row, y_test[index_row])\n",
        "\n",
        "    if neuron.checking_prediction:\n",
        "      if neuron.checking_prediction == y_test[index_row]:\n",
        "        dummy_predictions += 1\n",
        "        corrects_test += 1\n",
        "    else:\n",
        "      if neuron.checking_prediction == y_test[index_row]:\n",
        "        corrects_test += 1\n",
        "\n",
        "\n",
        "# Accuracy mathematics\n",
        "print(f'Total: {trys_test}')\n",
        "print(f'Prediction: {corrects_test}')\n",
        "\n",
        "accuracy_test = corrects_test / trys_test\n",
        "dummy_accuracy_test = dummy_predictions / trys_test\n",
        "\n",
        "print(f'The prediction accuracy of the DUMMY model was: {dummy_accuracy_test*100}%')\n",
        "print(f'The prediction accuracy of the model was: {accuracy_test*100}%')"
      ],
      "metadata": {
        "colab": {
          "base_uri": "https://localhost:8080/"
        },
        "id": "7IiGxgYZ-El1",
        "outputId": "d1bbaa2d-fb72-45f5-b702-0de4aebf5590"
      },
      "id": "7IiGxgYZ-El1",
      "execution_count": 139,
      "outputs": [
        {
          "output_type": "stream",
          "name": "stdout",
          "text": [
            "Total: 200\n",
            "Prediction: 98\n",
            "The prediction accuracy of the DUMMY model was: 43.5%\n",
            "The prediction accuracy of the model was: 49.0%\n"
          ]
        }
      ]
    },
    {
      "cell_type": "code",
      "source": [],
      "metadata": {
        "id": "LHm6fxI7_GN7"
      },
      "id": "LHm6fxI7_GN7",
      "execution_count": 139,
      "outputs": []
    }
  ],
  "metadata": {
    "kernelspec": {
      "display_name": "Python 3 (ipykernel)",
      "language": "python",
      "name": "python3"
    },
    "language_info": {
      "codemirror_mode": {
        "name": "ipython",
        "version": 3
      },
      "file_extension": ".py",
      "mimetype": "text/x-python",
      "name": "python",
      "nbconvert_exporter": "python",
      "pygments_lexer": "ipython3",
      "version": "3.11.3"
    },
    "colab": {
      "provenance": []
    }
  },
  "nbformat": 4,
  "nbformat_minor": 5
}