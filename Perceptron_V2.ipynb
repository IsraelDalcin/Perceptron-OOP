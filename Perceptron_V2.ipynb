{
  "cells": [
    {
      "cell_type": "code",
      "execution_count": 1,
      "id": "89407d01-ea37-45aa-a753-7421d9f78dc5",
      "metadata": {
        "tags": [],
        "id": "89407d01-ea37-45aa-a753-7421d9f78dc5"
      },
      "outputs": [],
      "source": [
        "# Librarys\n",
        "\n",
        "import numpy as np\n",
        "import random\n",
        "\n",
        "SEED = 20"
      ]
    },
    {
      "cell_type": "code",
      "execution_count": 2,
      "id": "e4155275-0d29-4b2a-bda0-fa28b687fc2e",
      "metadata": {
        "tags": [],
        "colab": {
          "base_uri": "https://localhost:8080/"
        },
        "id": "e4155275-0d29-4b2a-bda0-fa28b687fc2e",
        "outputId": "f6ac11bf-c06f-49b4-a739-19d4a0d432d8"
      },
      "outputs": [
        {
          "output_type": "execute_result",
          "data": {
            "text/plain": [
              "array([[0, 0, 0],\n",
              "       [0, 0, 0],\n",
              "       [0, 0, 0],\n",
              "       [0, 0, 0],\n",
              "       [0, 0, 0],\n",
              "       [0, 0, 0],\n",
              "       [0, 0, 0],\n",
              "       [0, 0, 0],\n",
              "       [0, 0, 0],\n",
              "       [0, 0, 0]])"
            ]
          },
          "metadata": {},
          "execution_count": 2
        }
      ],
      "source": [
        "# Creating our Zeros Data Matrix, using numpy\n",
        "X = np.zeros((10,3), dtype=int)\n",
        "y = np.zeros((10,1), dtype=int)\n",
        "X"
      ]
    },
    {
      "cell_type": "code",
      "execution_count": 3,
      "id": "6a0bc98c-8665-4cc6-9312-23efad27c157",
      "metadata": {
        "tags": [],
        "colab": {
          "base_uri": "https://localhost:8080/"
        },
        "id": "6a0bc98c-8665-4cc6-9312-23efad27c157",
        "outputId": "ee4a093a-6988-4018-d5fa-3e6094ea24de"
      },
      "outputs": [
        {
          "output_type": "execute_result",
          "data": {
            "text/plain": [
              "array([[0],\n",
              "       [0],\n",
              "       [0],\n",
              "       [0],\n",
              "       [0],\n",
              "       [0],\n",
              "       [0],\n",
              "       [0],\n",
              "       [0],\n",
              "       [0]])"
            ]
          },
          "metadata": {},
          "execution_count": 3
        }
      ],
      "source": [
        "y"
      ]
    },
    {
      "cell_type": "code",
      "execution_count": 4,
      "id": "0db7081f-023c-4521-be58-5ba7a71bf63d",
      "metadata": {
        "tags": [],
        "colab": {
          "base_uri": "https://localhost:8080/"
        },
        "id": "0db7081f-023c-4521-be58-5ba7a71bf63d",
        "outputId": "fa3fa5aa-c4d5-4924-8b97-4b673ee77459"
      },
      "outputs": [
        {
          "output_type": "execute_result",
          "data": {
            "text/plain": [
              "array([[0, 1, 0],\n",
              "       [1, 0, 0],\n",
              "       [1, 1, 0],\n",
              "       [0, 0, 1],\n",
              "       [1, 1, 1],\n",
              "       [0, 0, 1],\n",
              "       [1, 1, 1],\n",
              "       [0, 1, 1],\n",
              "       [0, 0, 0],\n",
              "       [0, 0, 0]])"
            ]
          },
          "metadata": {},
          "execution_count": 4
        }
      ],
      "source": [
        "# Generating our DataBase using Random numbers, Randomizing numbers between 0 and 1, where 1 represents 'yes' and 0 represents 'no'\n",
        "# First, generating our Features (X)\n",
        "random.seed(SEED)\n",
        "for index_row, row in enumerate(X):\n",
        "    for index_col, col in enumerate(row):\n",
        "        X[index_row][index_col] = random.randint(0,1)\n",
        "X"
      ]
    },
    {
      "cell_type": "code",
      "execution_count": 5,
      "id": "a6db562e-63b9-479a-bd70-03c3e6676759",
      "metadata": {
        "tags": [],
        "colab": {
          "base_uri": "https://localhost:8080/"
        },
        "id": "a6db562e-63b9-479a-bd70-03c3e6676759",
        "outputId": "76dfd28f-ad9b-40c0-f8d9-c9f660555569"
      },
      "outputs": [
        {
          "output_type": "execute_result",
          "data": {
            "text/plain": [
              "array([[0],\n",
              "       [0],\n",
              "       [1],\n",
              "       [1],\n",
              "       [1],\n",
              "       [1],\n",
              "       [0],\n",
              "       [0],\n",
              "       [0],\n",
              "       [1]])"
            ]
          },
          "metadata": {},
          "execution_count": 5
        }
      ],
      "source": [
        "# Generating our label (Y)\n",
        "for index_col, col in enumerate(y):\n",
        "    y[index_col] = random.randint(0,1)\n",
        "y"
      ]
    },
    {
      "cell_type": "code",
      "execution_count": 9,
      "id": "feddfe6c-321d-4405-9179-1a971a115aae",
      "metadata": {
        "tags": [],
        "id": "feddfe6c-321d-4405-9179-1a971a115aae"
      },
      "outputs": [],
      "source": [
        "# Creating a class for the Neuron. This neuron will have a list with weights and BIAS\n",
        "class Neuron:\n",
        "    def __init__(self):\n",
        "        self.features = None\n",
        "        self.neurons = None\n",
        "\n",
        "    # We need to use the features as parameters to know how many weights we will have and the number of neurons to determine the quantity of BIAS\n",
        "    # As we are using a Perceptron, evidently, we will have only one neuron, so the BIAS will have only one value assigned to that neuron\n",
        "    # It was necessary to create the object without parameters and then add them later in a loop structure, so we needed to create a function to assign the attributes as parameters\n",
        "    def values_assignment(self, features, neurons):\n",
        "        self._weights = np.zeros(len(features))\n",
        "        self._bias = np.zeros(neurons)\n",
        "\n",
        "    # Add the value for the respective Weight\n",
        "    def add_weights(self, index_cols, delta_wj):\n",
        "        self._weights[index_cols] = self._weights[index_cols] + delta_wj\n",
        "\n",
        "    def add_bias(self, delta_bias):\n",
        "        self._bias[0] = self._bias[0] + delta_bias\n",
        "\n",
        "    # Checking the activation of the Neuron with a Step Function\n",
        "    def activation_check(self, features, output):\n",
        "        # If the results of the function return more than 0, so the prediction is 1, else return 0. Then, we need verify if the prediction is equal to the output\n",
        "        if (np.dot(features, self._weights) + self._bias) > 0:\n",
        "            self.checking_prediction = 1\n",
        "            if self.checking_prediction == output:\n",
        "                return True\n",
        "            else:\n",
        "                return False\n",
        "        else:\n",
        "            self.checking_prediction = 0\n",
        "            if self.checking_prediction == output:\n",
        "                return True\n",
        "            else:\n",
        "                return False\n",
        "\n",
        "    def __str__(self):\n",
        "        return f'Weights: {self._weights} | BIAS: {self._bias}'"
      ]
    },
    {
      "cell_type": "code",
      "execution_count": 10,
      "id": "c43e655b-c829-48b9-afdc-40c3ef102b78",
      "metadata": {
        "tags": [],
        "colab": {
          "base_uri": "https://localhost:8080/"
        },
        "id": "c43e655b-c829-48b9-afdc-40c3ef102b78",
        "outputId": "8fce192d-b578-436b-f695-817691522497"
      },
      "outputs": [
        {
          "output_type": "stream",
          "name": "stdout",
          "text": [
            "Features: [0 1 0]\n",
            "Weights: [0. 0. 0.] | BIAS: [0.]\n",
            "Label: [0]\n",
            "Prediction: 1\n",
            "\n",
            "Features: [1 0 0]\n",
            "Weights: [0. 0. 0.] | BIAS: [0.]\n",
            "Label: [0]\n",
            "Prediction: 1\n",
            "\n",
            "Features: [1 1 0]\n",
            "Weights: [0. 0. 0.] | BIAS: [0.]\n",
            "Label: [1]\n",
            "Prediction: 0\n",
            "\n",
            "Features: [0 0 1]\n",
            "Weights: [0.1 0.1 0. ] | BIAS: [0.1]\n",
            "Label: [1]\n",
            "Prediction: 1\n",
            "\n",
            "Features: [1 1 1]\n",
            "Weights: [0.1 0.1 0. ] | BIAS: [0.1]\n",
            "Label: [1]\n",
            "Prediction: 1\n",
            "\n",
            "Features: [0 0 1]\n",
            "Weights: [0.1 0.1 0. ] | BIAS: [0.1]\n",
            "Label: [1]\n",
            "Prediction: 1\n",
            "\n",
            "Features: [1 1 1]\n",
            "Weights: [0.1 0.1 0. ] | BIAS: [0.1]\n",
            "Label: [0]\n",
            "Prediction: 0\n",
            "\n",
            "Features: [0 1 1]\n",
            "Weights: [ 0.   0.  -0.1] | BIAS: [0.]\n",
            "Label: [0]\n",
            "Prediction: 1\n",
            "\n",
            "Features: [0 0 0]\n",
            "Weights: [ 0.   0.  -0.1] | BIAS: [0.]\n",
            "Label: [0]\n",
            "Prediction: 1\n",
            "\n",
            "Features: [0 0 0]\n",
            "Weights: [ 0.   0.  -0.1] | BIAS: [0.]\n",
            "Label: [1]\n",
            "Prediction: 0\n",
            "\n",
            "10\n",
            "7\n",
            "A acurácia do modelo foi de 70.0%\n"
          ]
        },
        {
          "output_type": "stream",
          "name": "stderr",
          "text": [
            "<ipython-input-9-96fc5d582758>:16: DeprecationWarning: Conversion of an array with ndim > 0 to a scalar is deprecated, and will error in future. Ensure you extract a single element from your array before performing this operation. (Deprecated NumPy 1.25.)\n",
            "  self._weights[index_cols] = self._weights[index_cols] + delta_wj\n",
            "<ipython-input-9-96fc5d582758>:19: DeprecationWarning: Conversion of an array with ndim > 0 to a scalar is deprecated, and will error in future. Ensure you extract a single element from your array before performing this operation. (Deprecated NumPy 1.25.)\n",
            "  self._bias[0] = self._bias[0] + delta_bias\n"
          ]
        }
      ],
      "source": [
        "# Instantiating the object neuron\n",
        "neuron = Neuron()\n",
        "# The learning rate constant\n",
        "η = 0.1\n",
        "# Used these variables to calculate the accuracy of the model\n",
        "trys = 0\n",
        "corrects = 0\n",
        "\n",
        "# Creating a Loop to walk through the vector X\n",
        "for index_row, row in enumerate(X):\n",
        "    trys += 1\n",
        "    # Checking if is the 1st time of the loop, if yes, we create the weights based on ours features\n",
        "    if index_row == 0:\n",
        "        neuron.values_assignment(row, 1)\n",
        "\n",
        "    #Just some visual things to ilustrate the model\n",
        "    print(f'Features: {row}')\n",
        "    print(f'{neuron}')\n",
        "    print(f'Label: {y[index_row]}')\n",
        "    print(f'Prediction: {1 if neuron.activation_check(row, y[index_row]) else 0}')\n",
        "    print()\n",
        "\n",
        "    # Here is where our perceptron works\n",
        "    # 1st we are checking if the neuron DON'T activade, if Don't, it means we need fit the Weights\n",
        "    if neuron.activation_check(row, y[index_row]) == False:\n",
        "        # Loop to walk through the columns, so we can calculate the weights for each feature specifically\n",
        "        for index_col, col in enumerate(row):\n",
        "                # Using the basic function of perceptrons to calculate the weights\n",
        "                delta_wj = η * (y[index_row] - neuron.checking_prediction) * col\n",
        "                # This part call the method \"add_weights\" to add the weight on the respective index of the weight vector\n",
        "                neuron.add_weights(index_col, delta_wj)\n",
        "        '''I needed to work with the BIAS separately from the weights, to be able to calculate it independently. However, the function remains the same, with the only change being in X[0]\n",
        "        as the bias will always be 1'''\n",
        "        delta_bias = η * (y[index_row] - neuron.checking_prediction) * 1\n",
        "        # Same with weights, just adding the bias to the BIAS vector\n",
        "        neuron.add_bias(delta_bias)\n",
        "    else:\n",
        "        corrects += 1\n",
        "\n",
        "print(trys)\n",
        "print(corrects)\n",
        "# Accuracy mathematics\n",
        "accuracy = corrects / trys\n",
        "print(f'A acurácia do modelo foi de {accuracy*100}%')"
      ]
    },
    {
      "cell_type": "code",
      "execution_count": null,
      "id": "c605570b-88ff-4d0e-a4d2-0a74efd297db",
      "metadata": {
        "id": "c605570b-88ff-4d0e-a4d2-0a74efd297db"
      },
      "outputs": [],
      "source": []
    }
  ],
  "metadata": {
    "kernelspec": {
      "display_name": "Python 3 (ipykernel)",
      "language": "python",
      "name": "python3"
    },
    "language_info": {
      "codemirror_mode": {
        "name": "ipython",
        "version": 3
      },
      "file_extension": ".py",
      "mimetype": "text/x-python",
      "name": "python",
      "nbconvert_exporter": "python",
      "pygments_lexer": "ipython3",
      "version": "3.11.3"
    },
    "colab": {
      "provenance": []
    }
  },
  "nbformat": 4,
  "nbformat_minor": 5
}